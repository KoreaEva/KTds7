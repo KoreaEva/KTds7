{
 "cells": [
  {
   "cell_type": "markdown",
   "metadata": {},
   "source": [
    "# RAG Quickstart for Azure AI Search\n",
    "\n",
    "This quickstart provides a query for RAG scenarios. It demonstrates an approach for a chat experience using grounding data from a search index on Azure AI Search.\n",
    "\n",
    "We took a few shortcuts to keep the exercise basic and focused on query definitions:\n",
    "\n",
    "- We use the **hotels-sample-index**, which can be created in minutes and runs on any search service tier. This index is created by a wizard using built-in sample data.\n",
    "\n",
    "- We omit vectors so that we can skip chunking and embedding. The index contains plain text.\n",
    "\n",
    "A non-vector index isn't ideal for RAG patterns, but it makes for a simpler example.\n",
    "\n",
    "Once you understand the fundamentals of integrating queries from Azure AI Search to a chat completion model on Azure OpenAI, you can build on that experience by adding vector fields and vector and hybrid queries. We recommend the [phi-chat Python code example](https://github.com/Azure/azure-search-vector-samples/blob/main/demo-python/code/phi-chat/phi-chat.ipynb) for that step.\n",
    "\n",
    "This example is fully documented in [Quickstart: Generative search (RAG) with grounding data from Azure AI Search](https://learn.microsoft.com/azure/search/search-get-started-rag). If you need more guidance than the readme provides, please refer to the article.\n"
   ]
  },
  {
   "cell_type": "markdown",
   "metadata": {},
   "source": [
    "## Prerequisites\n",
    "\n",
    "- [Azure OpenAI](https://learn.microsoft.com/azure/ai-services/openai/how-to/create-resource)\n",
    "\n",
    "  - [Choose a region](https://learn.microsoft.com/azure/ai-services/openai/concepts/models?tabs=global-standard%2Cstandard-chat-completions#global-standard-model-availability) that supports the chat completion model you want to use (gpt-4o, gpt-4o-mini, or equivalent model). \n",
    "  - [Deploy the chat completion model](https://learn.microsoft.com/azure/ai-studio/how-to/deploy-models-openai) in Azure AI Foundry or [use another approach](https://learn.microsoft.com/azure/ai-services/openai/how-to/working-with-models?tabs=powershell).\n",
    "\n",
    "\n",
    "- [Azure AI Search](https://learn.microsoft.com/azure/search/search-create-service-portal)\n",
    "\n",
    "  - Basic tier or higher is recommended.\n",
    "  - Enable semantic ranking.\n",
    "  - Enable role-based access control.\n",
    "  - Enable a system identity for Azure AI Search.\n",
    "  \n",
    "Make sure you know the name of the deployed model, and have the endpoints for both Azure resources at hand. You will provide this information in the steps that follow.\n",
    "\n",
    "## Configure access\n",
    "\n",
    "This quickstart assumes authentication and authorization using Microsoft Entra ID and role assignments. It also assumes that you run this code from your local device.\n",
    "\n",
    "1. To create, load, and query the sample hotels index on Azure AI Search, you must personally have role assignments for **Search Index Data Contributor** and **Search Service Contributor**. If the hotels index already exists, you only need **Search Index Data Reader**.\n",
    "\n",
    "1. To send the query and search results to Azure OpenAI, you must have **Cognitive Services OpenAI User** permissions on Azure OpenAI.\n",
    "\n",
    "## Create the sample index\n",
    "\n",
    "This quickstart assumes the hotels-sample-index, which you can create in minutes using [this quickstart](https://learn.microsoft.com/azure/search/search-get-started-portal).\n",
    "\n",
    "Once the index exists, modify it in the Azure portal to use this semantic configuration:"
   ]
  },
  {
   "cell_type": "raw",
   "metadata": {
    "vscode": {
     "languageId": "raw"
    }
   },
   "source": [
    "    \"semantic\": {\n",
    "    \"defaultConfiguration\": \"semantic-config\",\n",
    "    \"configurations\": [\n",
    "      {\n",
    "        \"name\": \"semantic-config\",\n",
    "        \"prioritizedFields\": {\n",
    "          \"titleField\": { \"fieldName\": \"HotelName\" },\n",
    "          \"prioritizedContentFields\": [ { \"fieldName\": \"Description\" } ],\n",
    "          \"prioritizedKeywordsFields\": [\n",
    "            { \"fieldName\": \"Category\" },\n",
    "            { \"fieldName\": \"Tags\" }\n",
    "          ]}\n",
    "       }]},"
   ]
  },
  {
   "cell_type": "markdown",
   "metadata": {},
   "source": [
    "Now that you have your Azure resources, an index, and model in place, you can run the script to chat with the index."
   ]
  },
  {
   "cell_type": "markdown",
   "metadata": {},
   "source": [
    "## Create a virtual environment\n",
    "\n",
    "Create a virtual environment so that you can install the dependencies in isolation.\n",
    "\n",
    "1. In Visual Studio Code, open the folder containing Quickstart-RAG.ipynb.\n",
    "\n",
    "1. Press Ctrl-shift-P to open the command palette, search for \"Python: Create Environment\", and then select `Venv` to create a virtual environment in the current workspace.\n",
    "\n",
    "1. Select Quickstart-RAG\\requirements.txt for the dependencies.\n",
    "\n",
    "It takes several minutes to create the environment. When the environment is ready, continue to the next step.\n",
    "\n",
    "## Log in to Azure\n",
    "\n",
    "You're using Microsoft Entra ID and role assignments for the connection. Make sure you're logged in to the same tenant and subscription as Azure AI Search and Azure OpenAI. You can use the Azure CLI on the command line to show current properties, change properties, and to log in. For more information, see [Connect without keys](https://learn.microsoft.com/azure/search/search-get-started-rbac). \n",
    "\n",
    "Run each of the following commands in sequence.\n",
    "\n",
    "```\n",
    "az account show\n",
    "\n",
    "az account set --subscription <PUT YOUR SUBSCRIPTION ID HERE>\n",
    "\n",
    "az login --tenant <PUT YOUR TENANT ID HERE>\n",
    "```\n",
    "\n",
    "You should now be logged in to Azure from your local device.\n",
    "\n",
    "## Run the code"
   ]
  },
  {
   "cell_type": "code",
   "execution_count": 1,
   "metadata": {},
   "outputs": [
    {
     "name": "stdout",
     "output_type": "stream",
     "text": [
      "\n",
      "\u001b[1m[\u001b[0m\u001b[34;49mnotice\u001b[0m\u001b[1;39;49m]\u001b[0m\u001b[39;49m A new release of pip is available: \u001b[0m\u001b[31;49m25.1.1\u001b[0m\u001b[39;49m -> \u001b[0m\u001b[32;49m25.2\u001b[0m\n",
      "\u001b[1m[\u001b[0m\u001b[34;49mnotice\u001b[0m\u001b[1;39;49m]\u001b[0m\u001b[39;49m To update, run: \u001b[0m\u001b[32;49m/opt/homebrew/opt/python@3.11/bin/python3.11 -m pip install --upgrade pip\u001b[0m\n",
      "\n",
      "\u001b[1m[\u001b[0m\u001b[34;49mnotice\u001b[0m\u001b[1;39;49m]\u001b[0m\u001b[39;49m A new release of pip is available: \u001b[0m\u001b[31;49m25.1.1\u001b[0m\u001b[39;49m -> \u001b[0m\u001b[32;49m25.2\u001b[0m\n",
      "\u001b[1m[\u001b[0m\u001b[34;49mnotice\u001b[0m\u001b[1;39;49m]\u001b[0m\u001b[39;49m To update, run: \u001b[0m\u001b[32;49m/opt/homebrew/opt/python@3.11/bin/python3.11 -m pip install --upgrade pip\u001b[0m\n",
      "\n",
      "\u001b[1m[\u001b[0m\u001b[34;49mnotice\u001b[0m\u001b[1;39;49m]\u001b[0m\u001b[39;49m A new release of pip is available: \u001b[0m\u001b[31;49m25.1.1\u001b[0m\u001b[39;49m -> \u001b[0m\u001b[32;49m25.2\u001b[0m\n",
      "\u001b[1m[\u001b[0m\u001b[34;49mnotice\u001b[0m\u001b[1;39;49m]\u001b[0m\u001b[39;49m To update, run: \u001b[0m\u001b[32;49m/opt/homebrew/opt/python@3.11/bin/python3.11 -m pip install --upgrade pip\u001b[0m\n"
     ]
    }
   ],
   "source": [
    "# Package install for quickstart\n",
    "!pip install azure-search-documents --quiet\n",
    "!pip install azure-identity --quiet\n",
    "!pip install openai --quiet "
   ]
  },
  {
   "cell_type": "code",
   "execution_count": null,
   "metadata": {},
   "outputs": [],
   "source": [
    "# Set endpoints and deployment model (provide the name of the deployment)\n",
    "AZURE_SEARCH_ENDPOINT = \"\"\n",
    "AZURE_OPENAI_ENDPOINT = \"\"\n",
    "AZURE_DEPLOYMENT_MODEL = \"dev-gpt-4.1-mini\"  # e.g., \"gpt-35-turbo\", \"gpt-4o\", etc.\n",
    "AZURE_SEARCH_API_KEY = \"\"\n",
    "AZURE_OPENAI_API_KEY = \"\""
   ]
  },
  {
   "cell_type": "markdown",
   "metadata": {},
   "source": [
    "## Basic RAG Query\n",
    "\n",
    "The following code demonstrates how to set up a query on string fields and string collections in a search index, and how to send the results to a chat completion model. The response returned to the user is from the chat completion model."
   ]
  },
  {
   "cell_type": "code",
   "execution_count": null,
   "metadata": {},
   "outputs": [
    {
     "name": "stdout",
     "output_type": "stream",
     "text": [
      "Found 5 documents matching the query.\n",
      "Double Sanctuary Resort:5 star Luxury Hotel - Biggest Rooms in the city. #1 Hotel in the area listed by Traveler magazine. Free WiFi, Flexible check in/out, Fitness Center & espresso in room.:['view', 'pool', 'restaurant', 'bar', 'continental breakfast']\n",
      "Lion's Den Inn:Full breakfast buffet for 2 for only $1. Excited to show off our room upgrades, faster high speed WiFi, updated corridors & meeting space. Come relax and enjoy your stay.:['laundry service', 'free wifi', 'restaurant']\n",
      "Starlight Suites:Complimentary Airport Shuttle & WiFi. Book Now and save - Spacious All Suite Hotel, Indoor Outdoor Pool, Fitness Center, Florida Green certified, Complimentary Coffee, HDTV:['pool', 'coffee in lobby', 'free wifi']\n",
      "Royal Cottage Resort:Your home away from home. Brand new fully equipped premium rooms, fast WiFi, full kitchen, washer & dryer, fitness center. Inner courtyard includes water features and outdoor seating. All units include fireplaces and small outdoor balconies. Pets accepted.:['free wifi', 'free parking', '24-hour front desk service']\n",
      "Countryside Hotel:Save up to 50% off traditional hotels. Free WiFi, great location near downtown, full kitchen, washer & dryer, 24/7 support, bowling alley, fitness center and more.:['24-hour front desk service', 'laundry service', 'free wifi']\n",
      "- Double Sanctuary Resort offers free WiFi.\n",
      "- Lion's Den Inn provides faster high-speed WiFi and free WiFi.\n",
      "- Starlight Suites has complimentary WiFi.\n",
      "- Royal Cottage Resort features fast WiFi and free WiFi.\n",
      "- Countryside Hotel includes free WiFi.\n"
     ]
    }
   ],
   "source": [
    "# Set up the query for generating responses\n",
    "from azure.search.documents import SearchClient\n",
    "from azure.core.credentials import AzureKeyCredential\n",
    "from azure.core.exceptions import HttpResponseError, ClientAuthenticationError\n",
    "from openai import AzureOpenAI\n",
    "import sys\n",
    "\n",
    "try:\n",
    "    search_credential = AzureKeyCredential(AZURE_SEARCH_API_KEY)\n",
    "\n",
    "    # Initialize the OpenAI client\n",
    "    openai_client = AzureOpenAI(api_version=\"2024-06-01\",\n",
    "                                azure_endpoint=AZURE_OPENAI_ENDPOINT,\n",
    "                                api_key=AZURE_OPENAI_API_KEY,\n",
    "    )\n",
    "\n",
    "    # Initialize the Search client\n",
    "    search_client = SearchClient(endpoint=AZURE_SEARCH_ENDPOINT,\n",
    "                                 index_name=\"hotels-sample-index\",\n",
    "                                 credential=search_credential)\n",
    "    \n",
    "except ClientAuthenticationError as auth_error:\n",
    "    print(\"인증 오류가 발생합니다. API 키와 엔드포인트를 확인하세요.\")\n",
    "    print(auth_error.message)\n",
    "    sys.exit(1)\n",
    "except HttpResponseError as http_error:\n",
    "    print(\"HTTP 응답 오류가 발생합니다.\")\n",
    "    print(http_error.message)\n",
    "    sys.exit(1)\n",
    "except Exception as e:\n",
    "    print(\"알 수 없는 오류가 발생합니다.\")\n",
    "    print(e.message)\n",
    "    sys.exit(1)\n",
    "\n",
    "\n",
    "# This prompt provides instructions to the model\n",
    "GROUNDED_PROMPT=\"\"\"\n",
    "You are a friendly assistant that recommends hotels based on activities and amenities.\n",
    "Answer the query using only the sources provided below in a friendly and concise bulleted manner.\n",
    "Answer ONLY with the facts listed in the list of sources below.\n",
    "If there isn't enough information below, say you don't know.\n",
    "Do not generate answers that don't use the sources below.\n",
    "Query: {query}\n",
    "Sources:\\n{sources}\n",
    "\"\"\"\n",
    "\n",
    "# Query is the question being asked. It's sent to the search engine and the LLM.\n",
    "query=\"Can you recommend a few hotels with complimentary breakfast?\"\n",
    "\n",
    "try:\n",
    "    # Search results are created by the search client.\n",
    "    # Search results are composed of the top 5 results and the fields selected from the search index.\n",
    "    search_results = search_client.search(\n",
    "        search_text=query,\n",
    "        top=5,\n",
    "        select=\"Description,HotelName,Tags\"\n",
    "    )\n",
    "\n",
    "    search_results_list = list(search_results)\n",
    "    print(f\"Found {len(search_results_list)} documents matching the query.\")\n",
    "except Exception as e:\n",
    "    print(\"Error during search:\")\n",
    "    print(e.message)\n",
    "    sys.exit(1)\n",
    "\n",
    "\n"
   ]
  },
  {
   "cell_type": "markdown",
   "metadata": {},
   "source": [
    "If you get an authorization error instead of results:\n",
    "\n",
    "+ If you just enabled role assignments, wait a few minutes and try again. It can take several minutes for role assignments to become operational.\n",
    "\n",
    "+ Make sure you [enabled RBAC](https://learn.microsoft.com/azure/search/search-security-enable-roles?tabs=config-svc-portal%2Cdisable-keys-portal) on Azure AI Search. An HttpStatusMessage of **Forbidden** is an indicator that RBAC isn't enabled.\n",
    "\n",
    "+ Recheck role assignments if you get a 401 error. You should also review the steps in [Connect without keys](https://learn.microsoft.com/azure/search/search-get-started-rbac).\n",
    "\n",
    "+ Check firewall settings. This quickstart assumes public network access. If you have a firewall, you need to add rules to allow inbound requests from your device and for service-to-service connections. For more information, see [Configure network access](https://learn.microsoft.com/azure/search/service-configure-firewall).\n",
    "\n",
    "+ For more debugging guidance, see the [troubleshooting section](https://learn.microsoft.com/azure/search/search-get-started-rag#troubleshooting-errors) in the Quickstart documentation."
   ]
  },
  {
   "cell_type": "markdown",
   "metadata": {},
   "source": [
    "## Complex RAG Query\n",
    "\n",
    "Use complex types and collections in a RAG pattern by converting the result to JSON before sending it to the chat completion models. This query is similar to the basic query, but it includes fields from the \"Address\" complex type and the \"Rooms\" complex collection. This query shows you how to pull in data from parts of the index that aren't just simple text fields."
   ]
  },
  {
   "cell_type": "code",
   "execution_count": null,
   "metadata": {},
   "outputs": [
    {
     "name": "stdout",
     "output_type": "stream",
     "text": [
      "{\"HotelName\": \"Old Century Hotel\", \"Description\": \"The hotel is situated in a nineteenth century plaza, which has been expanded and renovated to the highest architectural standards to create a modern, functional and first-class hotel in which art and unique historical elements coexist with the most modern comforts. The hotel also regularly hosts events like wine tastings, beer dinners, and live music.\", \"Address\": {\"StreetAddress\": \"140 University Town Center Dr\", \"City\": \"Sarasota\", \"StateProvince\": \"FL\", \"PostalCode\": \"34243\", \"Country\": \"USA\"}, \"Rooms\": [{\"Description\": \"Suite, 2 Double Beds (Mountain View)\", \"Description_fr\": \"Suite, 2 lits doubles (vue sur la montagne)\", \"Type\": \"Suite\", \"BaseRate\": 250.99, \"BedOptions\": \"2 Double Beds\", \"SleepsCount\": 2, \"SmokingAllowed\": false, \"Tags\": [\"Room Tags\"]}, {\"Description\": \"Standard Room, 1 Queen Bed (City View)\", \"Description_fr\": \"Chambre Standard, 1 grand lit (vue ville)\", \"Type\": \"Standard Room\", \"BaseRate\": 121.99, \"BedOptions\": \"1 Queen Bed\", \"SleepsCount\": 2, \"SmokingAllowed\": false, \"Tags\": [\"jacuzzi tub\"]}, {\"Description\": \"Budget Room, 1 King Bed (Waterfront View)\", \"Description_fr\": \"Chambre \\u00c9conomique, 1 tr\\u00e8s grand lit (vue sur le front de mer)\", \"Type\": \"Budget Room\", \"BaseRate\": 88.99, \"BedOptions\": \"1 King Bed\", \"SleepsCount\": 2, \"SmokingAllowed\": false, \"Tags\": [\"suite\", \"tv\", \"jacuzzi tub\"]}, {\"Description\": \"Standard Room, 2 Double Beds (Cityside)\", \"Description_fr\": \"Chambre Standard, 2 lits doubles (c\\u00f4t\\u00e9 ville)\", \"Type\": \"Standard Room\", \"BaseRate\": 127.99, \"BedOptions\": \"2 Double Beds\", \"SleepsCount\": 2, \"SmokingAllowed\": true, \"Tags\": [\"coffee maker\", \"coffee maker\"]}, {\"Description\": \"Budget Room, 2 Double Beds (Cityside)\", \"Description_fr\": \"Chambre \\u00c9conomique, 2 lits doubles (Cityside)\", \"Type\": \"Budget Room\", \"BaseRate\": 96.99, \"BedOptions\": \"2 Double Beds\", \"SleepsCount\": 2, \"SmokingAllowed\": true, \"Tags\": [\"coffee maker\", \"jacuzzi tub\", \"vcr/dvd\"]}, {\"Description\": \"Budget Room, 1 Queen Bed (Mountain View)\", \"Description_fr\": \"Chambre \\u00c9conomique, 1 grand lit (Mountain View)\", \"Type\": \"Budget Room\", \"BaseRate\": 63.99, \"BedOptions\": \"1 Queen Bed\", \"SleepsCount\": 2, \"SmokingAllowed\": false, \"Tags\": [\"suite\"]}, {\"Description\": \"Standard Room, 1 Queen Bed (Mountain View)\", \"Description_fr\": \"Chambre Standard, 1 grand lit (vue montagne)\", \"Type\": \"Standard Room\", \"BaseRate\": 124.99, \"BedOptions\": \"1 Queen Bed\", \"SleepsCount\": 2, \"SmokingAllowed\": false, \"Tags\": [\"tv\"]}, {\"Description\": \"Standard Room, 1 Queen Bed (Cityside)\", \"Description_fr\": \"Chambre Standard, 1 grand lit (c\\u00f4t\\u00e9 ville)\", \"Type\": \"Standard Room\", \"BaseRate\": 117.99, \"BedOptions\": \"1 Queen Bed\", \"SleepsCount\": 2, \"SmokingAllowed\": true, \"Tags\": [\"tv\", \"vcr/dvd\"]}], \"Tags\": [\"pool\", \"free wifi\", \"concierge\"]}\n",
      "{\"HotelName\": \"Double Sanctuary Resort\", \"Description\": \"5 star Luxury Hotel - Biggest Rooms in the city. #1 Hotel in the area listed by Traveler magazine. Free WiFi, Flexible check in/out, Fitness Center & espresso in room.\", \"Address\": {\"StreetAddress\": \"2211 Elliott Ave\", \"City\": \"Seattle\", \"StateProvince\": \"WA\", \"PostalCode\": \"98121\", \"Country\": \"USA\"}, \"Rooms\": [{\"Description\": \"Suite, 2 Queen Beds (Amenities)\", \"Description_fr\": \"Suite, 2 grands lits (Services)\", \"Type\": \"Suite\", \"BaseRate\": 254.99, \"BedOptions\": \"2 Queen Beds\", \"SleepsCount\": 4, \"SmokingAllowed\": false, \"Tags\": [\"suite\"]}, {\"Description\": \"Standard Room, 1 King Bed (Amenities)\", \"Description_fr\": \"Chambre Standard, 1 tr\\u00e8s grand lit (Services)\", \"Type\": \"Standard Room\", \"BaseRate\": 124.99, \"BedOptions\": \"1 King Bed\", \"SleepsCount\": 2, \"SmokingAllowed\": true, \"Tags\": [\"suite\"]}, {\"Description\": \"Budget Room, 2 Double Beds (Waterfront View)\", \"Description_fr\": \"Chambre \\u00c9conomique, 2 lits doubles (vue sur le front de mer)\", \"Type\": \"Budget Room\", \"BaseRate\": 68.99, \"BedOptions\": \"2 Double Beds\", \"SleepsCount\": 2, \"SmokingAllowed\": true, \"Tags\": [\"suite\", \"vcr/dvd\"]}, {\"Description\": \"Standard Room, 1 Queen Bed (Mountain View)\", \"Description_fr\": \"Chambre Standard, 1 grand lit (vue montagne)\", \"Type\": \"Standard Room\", \"BaseRate\": 126.99, \"BedOptions\": \"1 Queen Bed\", \"SleepsCount\": 2, \"SmokingAllowed\": true, \"Tags\": [\"vcr/dvd\"]}, {\"Description\": \"Standard Room, 2 Double Beds (Mountain View)\", \"Description_fr\": \"Chambre Standard, 2 lits doubles (Mountain View)\", \"Type\": \"Standard Room\", \"BaseRate\": 108.99, \"BedOptions\": \"2 Double Beds\", \"SleepsCount\": 2, \"SmokingAllowed\": true, \"Tags\": [\"suite\", \"coffee maker\"]}, {\"Description\": \"Standard Room, 1 King Bed (Mountain View)\", \"Description_fr\": \"Chambre Standard, 1 tr\\u00e8s grand lit (vue montagne)\", \"Type\": \"Standard Room\", \"BaseRate\": 136.99, \"BedOptions\": \"1 King Bed\", \"SleepsCount\": 2, \"SmokingAllowed\": false, \"Tags\": [\"Room Tags\"]}, {\"Description\": \"Suite, 1 King Bed (Cityside)\", \"Description_fr\": \"Suite, 1 tr\\u00e8s grand lit (c\\u00f4t\\u00e9 ville)\", \"Type\": \"Suite\", \"BaseRate\": 260.99, \"BedOptions\": \"1 King Bed\", \"SleepsCount\": 2, \"SmokingAllowed\": false, \"Tags\": [\"jacuzzi tub\", \"coffee maker\"]}, {\"Description\": \"Standard Room, 1 Queen Bed (Cityside)\", \"Description_fr\": \"Chambre Standard, 1 grand lit (c\\u00f4t\\u00e9 ville)\", \"Type\": \"Standard Room\", \"BaseRate\": 133.99, \"BedOptions\": \"1 Queen Bed\", \"SleepsCount\": 2, \"SmokingAllowed\": true, \"Tags\": [\"jacuzzi tub\", \"bathroom shower\"]}, {\"Description\": \"Budget Room, 1 Queen Bed (City View)\", \"Description_fr\": \"Chambre \\u00c9conomique, 1 grand lit (vue sur la ville)\", \"Type\": \"Budget Room\", \"BaseRate\": 71.99, \"BedOptions\": \"1 Queen Bed\", \"SleepsCount\": 2, \"SmokingAllowed\": true, \"Tags\": [\"vcr/dvd\", \"suite\"]}, {\"Description\": \"Budget Room, 1 Queen Bed (City View)\", \"Description_fr\": \"Chambre \\u00c9conomique, 1 grand lit (vue sur la ville)\", \"Type\": \"Budget Room\", \"BaseRate\": 97.99, \"BedOptions\": \"1 Queen Bed\", \"SleepsCount\": 2, \"SmokingAllowed\": false, \"Tags\": [\"coffee maker\", \"suite\"]}, {\"Description\": \"Deluxe Room, 2 Queen Beds (Mountain View)\", \"Description_fr\": \"Chambre Deluxe, 2 grands lits (Mountain View)\", \"Type\": \"Deluxe Room\", \"BaseRate\": 162.99, \"BedOptions\": \"2 Queen Beds\", \"SleepsCount\": 4, \"SmokingAllowed\": true, \"Tags\": [\"jacuzzi tub\", \"tv\", \"suite\"]}, {\"Description\": \"Budget Room, 1 Queen Bed (Cityside)\", \"Description_fr\": \"Chambre \\u00c9conomique, 1 grand lit (c\\u00f4t\\u00e9 ville)\", \"Type\": \"Budget Room\", \"BaseRate\": 67.99, \"BedOptions\": \"1 Queen Bed\", \"SleepsCount\": 2, \"SmokingAllowed\": false, \"Tags\": [\"vcr/dvd\", \"coffee maker\", \"coffee maker\"]}, {\"Description\": \"Deluxe Room, 1 Queen Bed (City View)\", \"Description_fr\": \"Chambre Deluxe, 1 grand lit (vue ville)\", \"Type\": \"Deluxe Room\", \"BaseRate\": 138.99, \"BedOptions\": \"1 Queen Bed\", \"SleepsCount\": 2, \"SmokingAllowed\": true, \"Tags\": [\"coffee maker\", \"suite\"]}, {\"Description\": \"Deluxe Room, 1 Queen Bed (City View)\", \"Description_fr\": \"Chambre Deluxe, 1 grand lit (vue ville)\", \"Type\": \"Deluxe Room\", \"BaseRate\": 156.99, \"BedOptions\": \"1 Queen Bed\", \"SleepsCount\": 2, \"SmokingAllowed\": true, \"Tags\": [\"vcr/dvd\", \"bathroom shower\"]}, {\"Description\": \"Budget Room, 1 Queen Bed (Cityside)\", \"Description_fr\": \"Chambre \\u00c9conomique, 1 grand lit (c\\u00f4t\\u00e9 ville)\", \"Type\": \"Budget Room\", \"BaseRate\": 88.99, \"BedOptions\": \"1 Queen Bed\", \"SleepsCount\": 2, \"SmokingAllowed\": false, \"Tags\": [\"bathroom shower\", \"suite\", \"tv\"]}, {\"Description\": \"Deluxe Room, 2 Double Beds (Waterfront View)\", \"Description_fr\": \"Chambre Deluxe, 2 lits doubles (Waterfront View)\", \"Type\": \"Deluxe Room\", \"BaseRate\": 131.99, \"BedOptions\": \"2 Double Beds\", \"SleepsCount\": 2, \"SmokingAllowed\": false, \"Tags\": [\"vcr/dvd\", \"tv\"]}, {\"Description\": \"Budget Room, 1 King Bed (City View)\", \"Description_fr\": \"Chambre \\u00c9conomique, 1 tr\\u00e8s grand lit (vue sur la ville)\", \"Type\": \"Budget Room\", \"BaseRate\": 81.99, \"BedOptions\": \"1 King Bed\", \"SleepsCount\": 2, \"SmokingAllowed\": false, \"Tags\": [\"Room Tags\", \"bathroom shower\"]}], \"Tags\": [\"view\", \"pool\", \"restaurant\", \"bar\", \"continental breakfast\"]}\n",
      "{\"HotelName\": \"Starlight Suites\", \"Description\": \"Complimentary Airport Shuttle & WiFi. Book Now and save - Spacious All Suite Hotel, Indoor Outdoor Pool, Fitness Center, Florida Green certified, Complimentary Coffee, HDTV\", \"Address\": {\"StreetAddress\": \"19575 Biscayne Blvd\", \"City\": \"Aventura\", \"StateProvince\": \"FL\", \"PostalCode\": \"33180\", \"Country\": \"USA\"}, \"Rooms\": [{\"Description\": \"Budget Room, 1 King Bed (City View)\", \"Description_fr\": \"Chambre \\u00c9conomique, 1 tr\\u00e8s grand lit (vue sur la ville)\", \"Type\": \"Budget Room\", \"BaseRate\": 75.99, \"BedOptions\": \"1 King Bed\", \"SleepsCount\": 2, \"SmokingAllowed\": false, \"Tags\": [\"suite\"]}, {\"Description\": \"Budget Room, 1 Queen Bed (Cityside)\", \"Description_fr\": \"Chambre \\u00c9conomique, 1 grand lit (c\\u00f4t\\u00e9 ville)\", \"Type\": \"Budget Room\", \"BaseRate\": 80.99, \"BedOptions\": \"1 Queen Bed\", \"SleepsCount\": 2, \"SmokingAllowed\": false, \"Tags\": [\"suite\"]}, {\"Description\": \"Budget Room, 2 Double Beds (Cityside)\", \"Description_fr\": \"Chambre \\u00c9conomique, 2 lits doubles (Cityside)\", \"Type\": \"Budget Room\", \"BaseRate\": 80.99, \"BedOptions\": \"2 Double Beds\", \"SleepsCount\": 2, \"SmokingAllowed\": true, \"Tags\": [\"Room Tags\", \"tv\"]}, {\"Description\": \"Deluxe Room, 2 Queen Beds (Waterfront View)\", \"Description_fr\": \"Chambre Deluxe, 2 grands lits (Waterfront View)\", \"Type\": \"Deluxe Room\", \"BaseRate\": 148.99, \"BedOptions\": \"2 Queen Beds\", \"SleepsCount\": 4, \"SmokingAllowed\": true, \"Tags\": [\"Room Tags\"]}, {\"Description\": \"Suite, 2 Queen Beds (Cityside)\", \"Description_fr\": \"Suite, 2 grands lits (c\\u00f4t\\u00e9 ville)\", \"Type\": \"Suite\", \"BaseRate\": 231.99, \"BedOptions\": \"2 Queen Beds\", \"SleepsCount\": 4, \"SmokingAllowed\": true, \"Tags\": [\"bathroom shower\", \"suite\"]}, {\"Description\": \"Budget Room, 1 Queen Bed (Waterfront View)\", \"Description_fr\": \"Chambre \\u00c9conomique, 1 grand lit (vue sur le front de mer)\", \"Type\": \"Budget Room\", \"BaseRate\": 71.99, \"BedOptions\": \"1 Queen Bed\", \"SleepsCount\": 2, \"SmokingAllowed\": false, \"Tags\": [\"tv\", \"suite\", \"jacuzzi tub\"]}, {\"Description\": \"Budget Room, 2 Queen Beds (Waterfront View)\", \"Description_fr\": \"Chambre \\u00c9conomique, 2 grands lits (vue sur le front de mer)\", \"Type\": \"Budget Room\", \"BaseRate\": 77.99, \"BedOptions\": \"2 Queen Beds\", \"SleepsCount\": 4, \"SmokingAllowed\": true, \"Tags\": [\"Room Tags\"]}], \"Tags\": [\"pool\", \"coffee in lobby\", \"free wifi\"]}\n",
      "{\"HotelName\": \"Twin Vortex Hotel\", \"Description\": \"New experience in the making. Be the first to experience the luxury of the Twin Vortex. Reserve one of our newly-renovated guest rooms today.\", \"Address\": {\"StreetAddress\": \"1950 N Stemmons Fw\", \"City\": \"Dallas\", \"StateProvince\": \"TX\", \"PostalCode\": \"75207\", \"Country\": \"USA\"}, \"Rooms\": [{\"Description\": \"Budget Room, 1 King Bed (Cityside)\", \"Description_fr\": \"Chambre \\u00c9conomique, 1 tr\\u00e8s grand lit (c\\u00f4t\\u00e9 ville)\", \"Type\": \"Budget Room\", \"BaseRate\": 62.99, \"BedOptions\": \"1 King Bed\", \"SleepsCount\": 2, \"SmokingAllowed\": false, \"Tags\": [\"suite\", \"tv\"]}, {\"Description\": \"Standard Room, 2 Queen Beds (Cityside)\", \"Description_fr\": \"Chambre Standard, 2 grands lits (c\\u00f4t\\u00e9 ville)\", \"Type\": \"Standard Room\", \"BaseRate\": 107.99, \"BedOptions\": \"2 Queen Beds\", \"SleepsCount\": 4, \"SmokingAllowed\": true, \"Tags\": [\"vcr/dvd\", \"coffee maker\", \"jacuzzi tub\"]}, {\"Description\": \"Deluxe Room, 1 Queen Bed (Amenities)\", \"Description_fr\": \"Chambre Deluxe, 1 grand lit (Services)\", \"Type\": \"Deluxe Room\", \"BaseRate\": 138.99, \"BedOptions\": \"1 Queen Bed\", \"SleepsCount\": 2, \"SmokingAllowed\": false, \"Tags\": [\"bathroom shower\"]}, {\"Description\": \"Standard Room, 2 Double Beds (Cityside)\", \"Description_fr\": \"Chambre Standard, 2 lits doubles (c\\u00f4t\\u00e9 ville)\", \"Type\": \"Standard Room\", \"BaseRate\": 126.99, \"BedOptions\": \"2 Double Beds\", \"SleepsCount\": 2, \"SmokingAllowed\": false, \"Tags\": [\"tv\", \"jacuzzi tub\", \"suite\"]}, {\"Description\": \"Budget Room, 2 Double Beds (Mountain View)\", \"Description_fr\": \"Chambre \\u00c9conomique, 2 lits doubles (Mountain View)\", \"Type\": \"Budget Room\", \"BaseRate\": 71.99, \"BedOptions\": \"2 Double Beds\", \"SleepsCount\": 2, \"SmokingAllowed\": true, \"Tags\": [\"vcr/dvd\"]}, {\"Description\": \"Suite, 1 King Bed (Waterfront View)\", \"Description_fr\": \"Suite, 1 tr\\u00e8s grand lit (vue sur le front de mer)\", \"Type\": \"Suite\", \"BaseRate\": 249.99, \"BedOptions\": \"1 King Bed\", \"SleepsCount\": 2, \"SmokingAllowed\": false, \"Tags\": [\"bathroom shower\"]}, {\"Description\": \"Suite, 2 Queen Beds (Amenities)\", \"Description_fr\": \"Suite, 2 grands lits (Services)\", \"Type\": \"Suite\", \"BaseRate\": 257.99, \"BedOptions\": \"2 Queen Beds\", \"SleepsCount\": 4, \"SmokingAllowed\": true, \"Tags\": [\"jacuzzi tub\"]}, {\"Description\": \"Deluxe Room, 2 Double Beds (Amenities)\", \"Description_fr\": \"Chambre Deluxe, 2 lits doubles (Services)\", \"Type\": \"Deluxe Room\", \"BaseRate\": 151.99, \"BedOptions\": \"2 Double Beds\", \"SleepsCount\": 2, \"SmokingAllowed\": false, \"Tags\": [\"Room Tags\", \"tv\"]}, {\"Description\": \"Deluxe Room, 1 King Bed (Amenities)\", \"Description_fr\": \"Chambre Deluxe, 1 tr\\u00e8s grand lit (Services)\", \"Type\": \"Deluxe Room\", \"BaseRate\": 149.99, \"BedOptions\": \"1 King Bed\", \"SleepsCount\": 2, \"SmokingAllowed\": false, \"Tags\": [\"bathroom shower\", \"jacuzzi tub\"]}, {\"Description\": \"Suite, 1 King Bed (Amenities)\", \"Description_fr\": \"Suite, 1 tr\\u00e8s grand lit (Services)\", \"Type\": \"Suite\", \"BaseRate\": 258.99, \"BedOptions\": \"1 King Bed\", \"SleepsCount\": 2, \"SmokingAllowed\": false, \"Tags\": [\"coffee maker\"]}, {\"Description\": \"Deluxe Room, 1 King Bed (Waterfront View)\", \"Description_fr\": \"Chambre Deluxe, 1 tr\\u00e8s grand lit (vue sur le front de mer)\", \"Type\": \"Deluxe Room\", \"BaseRate\": 129.99, \"BedOptions\": \"1 King Bed\", \"SleepsCount\": 2, \"SmokingAllowed\": true, \"Tags\": [\"vcr/dvd\"]}, {\"Description\": \"Standard Room, 2 Queen Beds (City View)\", \"Description_fr\": \"Chambre Standard, 2 grands lits (vue sur la ville)\", \"Type\": \"Standard Room\", \"BaseRate\": 109.99, \"BedOptions\": \"2 Queen Beds\", \"SleepsCount\": 4, \"SmokingAllowed\": false, \"Tags\": [\"bathroom shower\", \"vcr/dvd\"]}, {\"Description\": \"Deluxe Room, 1 King Bed (Amenities)\", \"Description_fr\": \"Chambre Deluxe, 1 tr\\u00e8s grand lit (Services)\", \"Type\": \"Deluxe Room\", \"BaseRate\": 161.99, \"BedOptions\": \"1 King Bed\", \"SleepsCount\": 2, \"SmokingAllowed\": true, \"Tags\": [\"bathroom shower\", \"coffee maker\"]}, {\"Description\": \"Suite, 1 King Bed (Waterfront View)\", \"Description_fr\": \"Suite, 1 tr\\u00e8s grand lit (vue sur le front de mer)\", \"Type\": \"Suite\", \"BaseRate\": 235.99, \"BedOptions\": \"1 King Bed\", \"SleepsCount\": 2, \"SmokingAllowed\": true, \"Tags\": [\"bathroom shower\", \"bathroom shower\"]}, {\"Description\": \"Suite, 1 King Bed (City View)\", \"Description_fr\": \"Suite, 1 tr\\u00e8s grand lit (vue sur la ville)\", \"Type\": \"Suite\", \"BaseRate\": 260.99, \"BedOptions\": \"1 King Bed\", \"SleepsCount\": 2, \"SmokingAllowed\": false, \"Tags\": [\"tv\"]}, {\"Description\": \"Deluxe Room, 2 Queen Beds (Amenities)\", \"Description_fr\": \"Chambre Deluxe, 2 grands lits (Services)\", \"Type\": \"Deluxe Room\", \"BaseRate\": 151.99, \"BedOptions\": \"2 Queen Beds\", \"SleepsCount\": 4, \"SmokingAllowed\": true, \"Tags\": [\"suite\"]}, {\"Description\": \"Deluxe Room, 1 King Bed (Cityside)\", \"Description_fr\": \"Chambre Deluxe, 1 tr\\u00e8s grand lit (Cityside)\", \"Type\": \"Deluxe Room\", \"BaseRate\": 148.99, \"BedOptions\": \"1 King Bed\", \"SleepsCount\": 2, \"SmokingAllowed\": false, \"Tags\": [\"coffee maker\", \"bathroom shower\", \"vcr/dvd\"]}, {\"Description\": \"Standard Room, 1 King Bed (Cityside)\", \"Description_fr\": \"Chambre Standard, 1 tr\\u00e8s grand lit (c\\u00f4t\\u00e9 ville)\", \"Type\": \"Standard Room\", \"BaseRate\": 118.99, \"BedOptions\": \"1 King Bed\", \"SleepsCount\": 2, \"SmokingAllowed\": true, \"Tags\": [\"jacuzzi tub\", \"coffee maker\"]}], \"Tags\": [\"bar\", \"restaurant\", \"concierge\"]}\n",
      "{\"HotelName\": \"Good Business Hotel\", \"Description\": \"1 Mile from the airport. Free WiFi, Outdoor Pool, Complimentary Airport Shuttle, 6 miles from Lake Lanier & 10 miles from downtown. Our business center includes printers, a copy machine, fax, and a work area.\", \"Address\": {\"StreetAddress\": \"4400 Ashford Dunwoody Rd NE\", \"City\": \"Atlanta\", \"StateProvince\": \"GA\", \"PostalCode\": \"30346\", \"Country\": \"USA\"}, \"Rooms\": [{\"Description\": \"Budget Room, 2 Queen Beds (Amenities)\", \"Description_fr\": \"Chambre \\u00c9conomique, 2 grands lits (Services)\", \"Type\": \"Budget Room\", \"BaseRate\": 60.99, \"BedOptions\": \"2 Queen Beds\", \"SleepsCount\": 4, \"SmokingAllowed\": false, \"Tags\": [\"jacuzzi tub\", \"coffee maker\", \"jacuzzi tub\"]}, {\"Description\": \"Deluxe Room, 2 Queen Beds (Amenities)\", \"Description_fr\": \"Chambre Deluxe, 2 grands lits (Services)\", \"Type\": \"Deluxe Room\", \"BaseRate\": 139.99, \"BedOptions\": \"2 Queen Beds\", \"SleepsCount\": 4, \"SmokingAllowed\": true, \"Tags\": [\"suite\"]}, {\"Description\": \"Standard Room, 1 Queen Bed (Cityside)\", \"Description_fr\": \"Chambre Standard, 1 grand lit (c\\u00f4t\\u00e9 ville)\", \"Type\": \"Standard Room\", \"BaseRate\": 134.99, \"BedOptions\": \"1 Queen Bed\", \"SleepsCount\": 2, \"SmokingAllowed\": false, \"Tags\": [\"vcr/dvd\"]}, {\"Description\": \"Budget Room, 2 Queen Beds (Mountain View)\", \"Description_fr\": \"Chambre \\u00c9conomique, 2 grands lits (Mountain View)\", \"Type\": \"Budget Room\", \"BaseRate\": 84.99, \"BedOptions\": \"2 Queen Beds\", \"SleepsCount\": 4, \"SmokingAllowed\": false, \"Tags\": [\"Room Tags\"]}, {\"Description\": \"Standard Room, 1 King Bed (Waterfront View)\", \"Description_fr\": \"Chambre Standard, 1 tr\\u00e8s grand lit (vue sur le front de mer)\", \"Type\": \"Standard Room\", \"BaseRate\": 109.99, \"BedOptions\": \"1 King Bed\", \"SleepsCount\": 2, \"SmokingAllowed\": false, \"Tags\": [\"jacuzzi tub\"]}, {\"Description\": \"Budget Room, 2 Queen Beds (Waterfront View)\", \"Description_fr\": \"Chambre \\u00c9conomique, 2 grands lits (vue sur le front de mer)\", \"Type\": \"Budget Room\", \"BaseRate\": 77.99, \"BedOptions\": \"2 Queen Beds\", \"SleepsCount\": 4, \"SmokingAllowed\": true, \"Tags\": [\"coffee maker\", \"jacuzzi tub\"]}, {\"Description\": \"Suite, 1 Queen Bed (Waterfront View)\", \"Description_fr\": \"Suite, 1 grand lit (vue sur le front de mer)\", \"Type\": \"Suite\", \"BaseRate\": 241.99, \"BedOptions\": \"1 Queen Bed\", \"SleepsCount\": 2, \"SmokingAllowed\": true, \"Tags\": [\"suite\", \"tv\"]}, {\"Description\": \"Budget Room, 1 King Bed (Mountain View)\", \"Description_fr\": \"Chambre \\u00c9conomique, 1 tr\\u00e8s grand lit (Mountain View)\", \"Type\": \"Budget Room\", \"BaseRate\": 92.99, \"BedOptions\": \"1 King Bed\", \"SleepsCount\": 2, \"SmokingAllowed\": true, \"Tags\": [\"suite\"]}, {\"Description\": \"Standard Room, 2 Queen Beds (Amenities)\", \"Description_fr\": \"Chambre Standard, 2 grands lits (Services)\", \"Type\": \"Standard Room\", \"BaseRate\": 114.99, \"BedOptions\": \"2 Queen Beds\", \"SleepsCount\": 4, \"SmokingAllowed\": true, \"Tags\": [\"coffee maker\", \"coffee maker\", \"suite\"]}, {\"Description\": \"Budget Room, 1 King Bed (Cityside)\", \"Description_fr\": \"Chambre \\u00c9conomique, 1 tr\\u00e8s grand lit (c\\u00f4t\\u00e9 ville)\", \"Type\": \"Budget Room\", \"BaseRate\": 84.99, \"BedOptions\": \"1 King Bed\", \"SleepsCount\": 2, \"SmokingAllowed\": false, \"Tags\": [\"suite\"]}, {\"Description\": \"Deluxe Room, 2 Queen Beds (City View)\", \"Description_fr\": \"Chambre Deluxe, 2 grands lits (vue ville)\", \"Type\": \"Deluxe Room\", \"BaseRate\": 161.99, \"BedOptions\": \"2 Queen Beds\", \"SleepsCount\": 4, \"SmokingAllowed\": false, \"Tags\": [\"tv\"]}, {\"Description\": \"Deluxe Room, 1 King Bed (Amenities)\", \"Description_fr\": \"Chambre Deluxe, 1 tr\\u00e8s grand lit (Services)\", \"Type\": \"Deluxe Room\", \"BaseRate\": 158.99, \"BedOptions\": \"1 King Bed\", \"SleepsCount\": 2, \"SmokingAllowed\": false, \"Tags\": [\"coffee maker\"]}, {\"Description\": \"Suite, 1 Queen Bed (Mountain View)\", \"Description_fr\": \"Suite, 1 grand lit (vue sur la montagne)\", \"Type\": \"Suite\", \"BaseRate\": 269.99, \"BedOptions\": \"1 Queen Bed\", \"SleepsCount\": 2, \"SmokingAllowed\": true, \"Tags\": [\"suite\"]}, {\"Description\": \"Suite, 1 King Bed (Mountain View)\", \"Description_fr\": \"Suite, 1 tr\\u00e8s grand lit (vue sur la montagne)\", \"Type\": \"Suite\", \"BaseRate\": 235.99, \"BedOptions\": \"1 King Bed\", \"SleepsCount\": 2, \"SmokingAllowed\": false, \"Tags\": [\"bathroom shower\", \"bathroom shower\", \"coffee maker\"]}, {\"Description\": \"Standard Room, 2 Double Beds (Amenities)\", \"Description_fr\": \"Chambre Standard, 2 lits doubles (Services)\", \"Type\": \"Standard Room\", \"BaseRate\": 100.99, \"BedOptions\": \"2 Double Beds\", \"SleepsCount\": 2, \"SmokingAllowed\": true, \"Tags\": [\"vcr/dvd\"]}, {\"Description\": \"Suite, 1 King Bed (Cityside)\", \"Description_fr\": \"Suite, 1 tr\\u00e8s grand lit (c\\u00f4t\\u00e9 ville)\", \"Type\": \"Suite\", \"BaseRate\": 263.99, \"BedOptions\": \"1 King Bed\", \"SleepsCount\": 2, \"SmokingAllowed\": true, \"Tags\": [\"vcr/dvd\"]}, {\"Description\": \"Budget Room, 2 Double Beds (Mountain View)\", \"Description_fr\": \"Chambre \\u00c9conomique, 2 lits doubles (Mountain View)\", \"Type\": \"Budget Room\", \"BaseRate\": 83.99, \"BedOptions\": \"2 Double Beds\", \"SleepsCount\": 2, \"SmokingAllowed\": true, \"Tags\": [\"suite\", \"bathroom shower\"]}, {\"Description\": \"Budget Room, 1 Queen Bed (Cityside)\", \"Description_fr\": \"Chambre \\u00c9conomique, 1 grand lit (c\\u00f4t\\u00e9 ville)\", \"Type\": \"Budget Room\", \"BaseRate\": 80.99, \"BedOptions\": \"1 Queen Bed\", \"SleepsCount\": 2, \"SmokingAllowed\": true, \"Tags\": [\"Room Tags\", \"suite\", \"vcr/dvd\"]}, {\"Description\": \"Deluxe Room, 1 Queen Bed (Cityside)\", \"Description_fr\": \"Chambre Deluxe, 1 grand lit (c\\u00f4t\\u00e9 ville)\", \"Type\": \"Deluxe Room\", \"BaseRate\": 129.99, \"BedOptions\": \"1 Queen Bed\", \"SleepsCount\": 2, \"SmokingAllowed\": false, \"Tags\": [\"suite\", \"coffee maker\", \"suite\"]}], \"Tags\": [\"pool\", \"continental breakfast\", \"free parking\"]}\n",
      "Here are hotels that offer complimentary breakfast along with details of rooms that sleep 4 people:\n",
      "\n",
      "- **Double Sanctuary Resort**  \n",
      "  - Description: 5 star Luxury Hotel - Biggest Rooms in the city. #1 Hotel in the area listed by Traveler magazine. Free WiFi, Flexible check in/out, Fitness Center & espresso in room.  \n",
      "  - Address: 2211 Elliott Ave, Seattle, WA 98121, USA  \n",
      "  - Tags: view, pool, restaurant, bar, continental breakfast  \n",
      "  - Room for 4: Deluxe Room, 2 Queen Beds (Mountain View)  \n",
      "    - Rate: $162.99  \n",
      "    - Tags: jacuzzi tub, tv, suite\n",
      "\n",
      "- **Good Business Hotel**  \n",
      "  - Description: 1 Mile from the airport. Free WiFi, Outdoor Pool, Complimentary Airport Shuttle, 6 miles from Lake Lanier & 10 miles from downtown. Business center includes printers, copy machine, fax, and work area.  \n",
      "  - Address: 4400 Ashford Dunwoody Rd NE, Atlanta, GA 30346, USA  \n",
      "  - Tags: pool, continental breakfast, free parking  \n",
      "  - Room for 4: Budget Room, 2 Queen Beds (Amenities)  \n",
      "    - Rate: $60.99  \n",
      "    - Tags: jacuzzi tub, coffee maker\n",
      "\n",
      "I hope this helps!\n"
     ]
    }
   ],
   "source": [
    "import json\n",
    "\n",
    "# Query is the question being asked. It's sent to the search engine and the LLM.\n",
    "query=\"Can you recommend a few hotels that offer complimentary breakfast? Tell me their description, address, tags, and the rate for one room they have which sleep 4 people.\"\n",
    "\n",
    "# Set up the search results and the chat thread.\n",
    "# Retrieve the selected fields from the search index related to the question.\n",
    "selected_fields = [\"HotelName\",\"Description\",\"Address\",\"Rooms\",\"Tags\"]\n",
    "search_results = search_client.search(\n",
    "    search_text=query,\n",
    "    top=5,\n",
    "    select=selected_fields,\n",
    "    query_type=\"simple\"\n",
    ")\n",
    "sources_filtered = [{field: result[field] for field in selected_fields} for result in search_results]\n",
    "sources_formatted = \"\\n\".join([json.dumps(source) for source in sources_filtered])\n",
    "\n",
    "print(sources_formatted)\n",
    "\n",
    "response = openai_client.chat.completions.create(\n",
    "    messages=[\n",
    "        {\n",
    "            \"role\": \"user\",\n",
    "            \"content\": GROUNDED_PROMPT.format(query=query, sources=sources_formatted)\n",
    "        }\n",
    "    ],\n",
    "    model=AZURE_DEPLOYMENT_MODEL\n",
    ")\n",
    " \n",
    "print(response.choices[0].message.content)"
   ]
  },
  {
   "cell_type": "code",
   "execution_count": null,
   "metadata": {},
   "outputs": [],
   "source": []
  }
 ],
 "metadata": {
  "kernelspec": {
   "display_name": "Python 3",
   "language": "python",
   "name": "python3"
  },
  "language_info": {
   "codemirror_mode": {
    "name": "ipython",
    "version": 3
   },
   "file_extension": ".py",
   "mimetype": "text/x-python",
   "name": "python",
   "nbconvert_exporter": "python",
   "pygments_lexer": "ipython3",
   "version": "3.11.11"
  }
 },
 "nbformat": 4,
 "nbformat_minor": 2
}
